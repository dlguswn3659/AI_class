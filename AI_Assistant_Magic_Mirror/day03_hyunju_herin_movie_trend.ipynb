{
  "nbformat": 4,
  "nbformat_minor": 0,
  "metadata": {
    "colab": {
      "name": "day03_hyunju_herin_movie_trend.ipynb",
      "provenance": [],
      "authorship_tag": "ABX9TyM8DOm00ZhQeqrMu2IqZ7DM",
      "include_colab_link": true
    },
    "kernelspec": {
      "name": "python3",
      "display_name": "Python 3"
    }
  },
  "cells": [
    {
      "cell_type": "markdown",
      "metadata": {
        "id": "view-in-github",
        "colab_type": "text"
      },
      "source": [
        "<a href=\"https://colab.research.google.com/github/dlguswn3659/AI_class/blob/master/AI_Assistant_Magic_Mirror/day03_hyunju_herin_movie_trend.ipynb\" target=\"_parent\"><img src=\"https://colab.research.google.com/assets/colab-badge.svg\" alt=\"Open In Colab\"/></a>"
      ]
    },
    {
      "cell_type": "code",
      "metadata": {
        "id": "j4CEhgGyqwVP",
        "colab_type": "code",
        "colab": {
          "base_uri": "https://localhost:8080/",
          "height": 72
        },
        "outputId": "247140bb-3438-425f-a725-15f9235fd118"
      },
      "source": [
        "import urllib.request\n",
        "import json\n",
        "import pandas as pd\n",
        "import seaborn as sns; sns.set(style='darkgrid', font='KoPutDOtum', font_scale=1.5)\n",
        "import matplotlib.pyplot as plt"
      ],
      "execution_count": 1,
      "outputs": [
        {
          "output_type": "stream",
          "text": [
            "/usr/local/lib/python3.6/dist-packages/statsmodels/tools/_testing.py:19: FutureWarning: pandas.util.testing is deprecated. Use the functions in the public API at pandas.testing instead.\n",
            "  import pandas.util.testing as tm\n"
          ],
          "name": "stderr"
        }
      ]
    },
    {
      "cell_type": "code",
      "metadata": {
        "id": "lu_DpvMnre-6",
        "colab_type": "code",
        "colab": {}
      },
      "source": [
        "\n",
        "client_id = \"8W7zgsf_p9bfZu48fstp\"\n",
        "client_secret = \"gGqw9VbTre\"\n",
        "\n",
        "url = \"https://openapi.naver.com/v1/datalab/search\";\n",
        "body = {\n",
        "    'startDate' : '2020-08-18',\n",
        "    'endDate' : '2020-08-24',\n",
        "    'timeUnit' : 'date',        # input : [date, week, month]\n",
        "    'keywordGroups' : [         #\n",
        "        {\n",
        "            'groupName': '다만 악에서 구하소서',\n",
        "            'keywords': ['다만 악에서 구하소서']\n",
        "        },{\n",
        "            'groupName': '오케이 마담',\n",
        "            'keywords': ['오케이 마담']\n",
        "        },{\n",
        "            'groupName': '극장판 짱구는 못말려: 신혼여행 허리케인~ 사라진 아빠!',\n",
        "            'keywords': ['극장판 짱구는 못말려: 신혼여행 허리케인~ 사라진 아빠!']\n",
        "        },{\n",
        "            'groupName': '강철비2: 정상회담',\n",
        "            'keywords': ['강철비2: 정상회담']\n",
        "        },{\n",
        "            'groupName': '반도',\n",
        "            'keywords': ['반도']\n",
        "        },\n",
        "    ]\n",
        "}\n",
        "body = json.dumps(body)\n",
        "\n",
        "request = urllib.request.Request(url)\n",
        "request.add_header(\"X-Naver-Client-Id\",client_id)\n",
        "request.add_header(\"X-Naver-Client-Secret\",client_secret)\n",
        "request.add_header(\"Content-Type\",\"application/json\")\n",
        "response = urllib.request.urlopen(request, data=body.encode(\"utf-8\"))\n",
        "json_obj = json.loads(response.read().decode('utf-8'))"
      ],
      "execution_count": 2,
      "outputs": []
    },
    {
      "cell_type": "code",
      "metadata": {
        "id": "MtKGIm3PtbyS",
        "colab_type": "code",
        "colab": {
          "base_uri": "https://localhost:8080/",
          "height": 248
        },
        "outputId": "0e0e0716-270f-4b39-ef8e-998877ab2a2c"
      },
      "source": [
        "df1 = pd.DataFrame(json_obj['results'][0]['data']); df1.columns=['기간','다만 악에서 구하소서']; df1.set_index('기간')\n",
        "df2 = pd.DataFrame(json_obj['results'][1]['data']); df1.columns=['기간','오케이 마담']; df1.set_index('기간')\n",
        "df3 = pd.DataFrame(json_obj['results'][2]['data']); df1.columns=['기간','극장판 짱구는 못말려: 신혼여행 허리케인~ 사라진 아빠!']; df1.set_index('기간')\n",
        "df4 = pd.DataFrame(json_obj['results'][3]['data']); df1.columns=['기간','강철비2: 정상회담']; df1.set_index('기간')\n",
        "df5 = pd.DataFrame(json_obj['results'][4]['data']); df1.columns=['기간','반도']; df1.set_index('기간')\n",
        "# df = df1.merge(df2, how='outer', on='기간').fillna(0)\n",
        "\n",
        "df = df1.append(df2)\n",
        "\n",
        "df.head(7)"
      ],
      "execution_count": 3,
      "outputs": [
        {
          "output_type": "execute_result",
          "data": {
            "text/html": [
              "<div>\n",
              "<style scoped>\n",
              "    .dataframe tbody tr th:only-of-type {\n",
              "        vertical-align: middle;\n",
              "    }\n",
              "\n",
              "    .dataframe tbody tr th {\n",
              "        vertical-align: top;\n",
              "    }\n",
              "\n",
              "    .dataframe thead th {\n",
              "        text-align: right;\n",
              "    }\n",
              "</style>\n",
              "<table border=\"1\" class=\"dataframe\">\n",
              "  <thead>\n",
              "    <tr style=\"text-align: right;\">\n",
              "      <th></th>\n",
              "      <th>기간</th>\n",
              "      <th>반도</th>\n",
              "      <th>period</th>\n",
              "      <th>ratio</th>\n",
              "    </tr>\n",
              "  </thead>\n",
              "  <tbody>\n",
              "    <tr>\n",
              "      <th>0</th>\n",
              "      <td>2020-08-18</td>\n",
              "      <td>100.00000</td>\n",
              "      <td>NaN</td>\n",
              "      <td>NaN</td>\n",
              "    </tr>\n",
              "    <tr>\n",
              "      <th>1</th>\n",
              "      <td>2020-08-19</td>\n",
              "      <td>83.64171</td>\n",
              "      <td>NaN</td>\n",
              "      <td>NaN</td>\n",
              "    </tr>\n",
              "    <tr>\n",
              "      <th>2</th>\n",
              "      <td>2020-08-20</td>\n",
              "      <td>79.92514</td>\n",
              "      <td>NaN</td>\n",
              "      <td>NaN</td>\n",
              "    </tr>\n",
              "    <tr>\n",
              "      <th>3</th>\n",
              "      <td>2020-08-21</td>\n",
              "      <td>68.68038</td>\n",
              "      <td>NaN</td>\n",
              "      <td>NaN</td>\n",
              "    </tr>\n",
              "    <tr>\n",
              "      <th>4</th>\n",
              "      <td>2020-08-22</td>\n",
              "      <td>78.79987</td>\n",
              "      <td>NaN</td>\n",
              "      <td>NaN</td>\n",
              "    </tr>\n",
              "    <tr>\n",
              "      <th>5</th>\n",
              "      <td>2020-08-23</td>\n",
              "      <td>73.22252</td>\n",
              "      <td>NaN</td>\n",
              "      <td>NaN</td>\n",
              "    </tr>\n",
              "    <tr>\n",
              "      <th>6</th>\n",
              "      <td>2020-08-24</td>\n",
              "      <td>52.52724</td>\n",
              "      <td>NaN</td>\n",
              "      <td>NaN</td>\n",
              "    </tr>\n",
              "  </tbody>\n",
              "</table>\n",
              "</div>"
            ],
            "text/plain": [
              "           기간         반도 period  ratio\n",
              "0  2020-08-18  100.00000    NaN    NaN\n",
              "1  2020-08-19   83.64171    NaN    NaN\n",
              "2  2020-08-20   79.92514    NaN    NaN\n",
              "3  2020-08-21   68.68038    NaN    NaN\n",
              "4  2020-08-22   78.79987    NaN    NaN\n",
              "5  2020-08-23   73.22252    NaN    NaN\n",
              "6  2020-08-24   52.52724    NaN    NaN"
            ]
          },
          "metadata": {
            "tags": []
          },
          "execution_count": 3
        }
      ]
    }
  ]
}